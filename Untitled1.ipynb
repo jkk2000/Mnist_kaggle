{
 "cells": [
  {
   "cell_type": "code",
   "execution_count": null,
   "metadata": {},
   "outputs": [],
   "source": [
    "from tensorflow.keras.applications import VGG16\n",
    "from tensorflow.keras.datasets.mnist import load_data\n",
    "import pandas as pd\n",
    "import numpy as np\n",
    "\n",
    "data = pd.read_csv(\"train.csv\")\n",
    "X_col = [col for col in data.columns if col not in ['label']]\n",
    "X_full = data[X_col]\n",
    "y_full = data['label']\n",
    "X_full = np.reshape(X_full, (-1, 28, 28))\n",
    "X_valid, X_train = X_full[36000:]/255.0, X_full[:36000]/255.0\n",
    "y_valid, y_train = y_full[36000:], y_full[:36000]\n",
    "\n",
    "\n",
    "vgg_model = VGG16(weights='imagenet',\n",
    "                 include_top=False,\n",
    "                 input_shape=(2)) "
   ]
  }
 ],
 "metadata": {
  "kernelspec": {
   "display_name": "Python 3",
   "language": "python",
   "name": "python3"
  },
  "language_info": {
   "codemirror_mode": {
    "name": "ipython",
    "version": 3
   },
   "file_extension": ".py",
   "mimetype": "text/x-python",
   "name": "python",
   "nbconvert_exporter": "python",
   "pygments_lexer": "ipython3",
   "version": "3.8.3"
  }
 },
 "nbformat": 4,
 "nbformat_minor": 4
}
