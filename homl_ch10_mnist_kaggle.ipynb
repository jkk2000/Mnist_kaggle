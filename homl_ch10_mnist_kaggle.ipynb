{
 "cells": [
  {
   "cell_type": "code",
   "execution_count": 7,
   "metadata": {},
   "outputs": [],
   "source": [
    "%reload_ext tensorboard"
   ]
  },
  {
   "cell_type": "code",
   "execution_count": 2,
   "metadata": {},
   "outputs": [
    {
     "data": {
      "text/plain": [
       "(10000, 784)"
      ]
     },
     "execution_count": 2,
     "metadata": {},
     "output_type": "execute_result"
    }
   ],
   "source": [
    "import pandas as pd\n",
    "import numpy as np\n",
    "from tensorflow.keras.datasets.mnist import load_data\n",
    "data = pd.read_csv(\"train.csv\")\n",
    "\n",
    "X_col = [col for col in data.columns if col not in ['label']]\n",
    "(X_train_full, y_train_full), (X_test_full, y_test_full) = load_data()\n",
    "X_train_full = np.reshape(X_train_full, (-1, 784))\n",
    "X_test_full = np.reshape(X_test_full, (-1, 784))\n",
    "X_full = data[X_col]\n",
    "y_full = data['label']\n",
    "X_valid, X_train = X_full/255.0, X_train_full/255.0\n",
    "y_valid, y_train = y_full, y_train_full\n",
    "\n",
    "X_test_full.shape"
   ]
  },
  {
   "cell_type": "code",
   "execution_count": 3,
   "metadata": {},
   "outputs": [],
   "source": [
    "from tensorflow import keras\n",
    "from tensorflow.keras.layers import Dense\n",
    "from tensorflow.keras.layers import Dropout\n",
    "\n",
    "def build_model(n_hidden=5, n_neurons=256):\n",
    "    model = keras.models.Sequential()\n",
    "    model.add(Dense(n_neurons, activation='elu', kernel_initializer='he_normal', input_shape=[784]))\n",
    "    keras.layers.Dropout(rate=0.4)\n",
    "    for layer in range(n_hidden-1):\n",
    "        keras.layers.BatchNormalization()\n",
    "        model.add(Dense(n_neurons, activation='elu', kernel_initializer='he_normal'))\n",
    "        keras.layers.Dropout(rate=0.5)\n",
    "    keras.layers.BatchNormalization()\n",
    "    model.add(Dense(10, activation='softmax'))\n",
    "    model.compile(loss='sparse_categorical_crossentropy',\n",
    "                 optimizer='Nadam',\n",
    "                 metrics=['accuracy'])\n",
    "    return model\n",
    "\n",
    "model = build_model()"
   ]
  },
  {
   "cell_type": "code",
   "execution_count": 11,
   "metadata": {},
   "outputs": [],
   "source": [
    "from datetime import datetime \n",
    "\n",
    "logdir = \"logs/scalars\" + datetime.now().strftime(\"%Y%m%d-%H%M%S\")\n",
    "tensorboard_callback = keras.callbacks.TensorBoard(log_dir=logdir)"
   ]
  },
  {
   "cell_type": "code",
   "execution_count": 5,
   "metadata": {},
   "outputs": [
    {
     "name": "stdout",
     "output_type": "stream",
     "text": [
      "Epoch 1/100\n",
      "1875/1875 [==============================] - 54s 29ms/step - loss: 0.2376 - accuracy: 0.9276 - val_loss: 0.1550 - val_accuracy: 0.9541\n",
      "Epoch 2/100\n",
      "1875/1875 [==============================] - 49s 26ms/step - loss: 0.1306 - accuracy: 0.9608 - val_loss: 0.1176 - val_accuracy: 0.9647\n",
      "Epoch 3/100\n",
      "1875/1875 [==============================] - 48s 25ms/step - loss: 0.1084 - accuracy: 0.9682 - val_loss: 0.1004 - val_accuracy: 0.9693\n",
      "Epoch 4/100\n",
      "1875/1875 [==============================] - 47s 25ms/step - loss: 0.0910 - accuracy: 0.9729 - val_loss: 0.0547 - val_accuracy: 0.9826\n",
      "Epoch 5/100\n",
      "1875/1875 [==============================] - 55s 29ms/step - loss: 0.0821 - accuracy: 0.9751 - val_loss: 0.0811 - val_accuracy: 0.9758\n",
      "Epoch 6/100\n",
      "1875/1875 [==============================] - 42s 22ms/step - loss: 0.0708 - accuracy: 0.9791 - val_loss: 0.0601 - val_accuracy: 0.9812\n",
      "Epoch 7/100\n",
      "1875/1875 [==============================] - 58s 31ms/step - loss: 0.0620 - accuracy: 0.9818 - val_loss: 0.0632 - val_accuracy: 0.9821\n",
      "Epoch 8/100\n",
      "1875/1875 [==============================] - 48s 26ms/step - loss: 0.0593 - accuracy: 0.9833 - val_loss: 0.0562 - val_accuracy: 0.9826\n",
      "Epoch 9/100\n",
      "1875/1875 [==============================] - 49s 26ms/step - loss: 0.0522 - accuracy: 0.9846 - val_loss: 0.0948 - val_accuracy: 0.9758\n",
      "Epoch 10/100\n",
      "1875/1875 [==============================] - 44s 23ms/step - loss: 0.0528 - accuracy: 0.9854 - val_loss: 0.0728 - val_accuracy: 0.9834\n",
      "Epoch 11/100\n",
      "1875/1875 [==============================] - 47s 25ms/step - loss: 0.0472 - accuracy: 0.9868 - val_loss: 0.0434 - val_accuracy: 0.9883\n",
      "Epoch 12/100\n",
      "1875/1875 [==============================] - 41s 22ms/step - loss: 0.0419 - accuracy: 0.9884 - val_loss: 0.0533 - val_accuracy: 0.9864\n",
      "Epoch 13/100\n",
      "1875/1875 [==============================] - 46s 24ms/step - loss: 0.0527 - accuracy: 0.9880 - val_loss: 0.0368 - val_accuracy: 0.9906\n",
      "Epoch 14/100\n",
      "1875/1875 [==============================] - 41s 22ms/step - loss: 0.0340 - accuracy: 0.9905 - val_loss: 0.0447 - val_accuracy: 0.9882\n",
      "Epoch 15/100\n",
      "1875/1875 [==============================] - 54s 29ms/step - loss: 0.0366 - accuracy: 0.9904 - val_loss: 0.0503 - val_accuracy: 0.9870\n",
      "Epoch 16/100\n",
      "1875/1875 [==============================] - 48s 26ms/step - loss: 0.0372 - accuracy: 0.9901 - val_loss: 0.0349 - val_accuracy: 0.9908\n",
      "Epoch 17/100\n",
      "1875/1875 [==============================] - 47s 25ms/step - loss: 0.0333 - accuracy: 0.9913 - val_loss: 0.0601 - val_accuracy: 0.9856\n",
      "Epoch 18/100\n",
      "1875/1875 [==============================] - 33s 18ms/step - loss: 0.0373 - accuracy: 0.9908 - val_loss: 0.0516 - val_accuracy: 0.9881\n",
      "Epoch 19/100\n",
      "1875/1875 [==============================] - 45s 24ms/step - loss: 0.0318 - accuracy: 0.9921 - val_loss: 0.0548 - val_accuracy: 0.9885\n",
      "Epoch 20/100\n",
      "1875/1875 [==============================] - 40s 21ms/step - loss: 0.0302 - accuracy: 0.9925 - val_loss: 0.0317 - val_accuracy: 0.9925\n",
      "Epoch 21/100\n",
      "1875/1875 [==============================] - 34s 18ms/step - loss: 0.1028 - accuracy: 0.9905 - val_loss: 0.0549 - val_accuracy: 0.9894\n",
      "Epoch 22/100\n",
      "1875/1875 [==============================] - 34s 18ms/step - loss: 0.1386 - accuracy: 0.9931 - val_loss: 0.0318 - val_accuracy: 0.9937\n",
      "Epoch 23/100\n",
      "1875/1875 [==============================] - 40s 21ms/step - loss: 0.0190 - accuracy: 0.9950 - val_loss: 0.0380 - val_accuracy: 0.9937\n",
      "Epoch 24/100\n",
      "1875/1875 [==============================] - 41s 22ms/step - loss: 0.0240 - accuracy: 0.9946 - val_loss: 0.0257 - val_accuracy: 0.9948\n",
      "Epoch 25/100\n",
      "1875/1875 [==============================] - 34s 18ms/step - loss: 0.0209 - accuracy: 0.9950 - val_loss: 0.0368 - val_accuracy: 0.9935\n",
      "Epoch 26/100\n",
      "1875/1875 [==============================] - 49s 26ms/step - loss: 0.0218 - accuracy: 0.9945 - val_loss: 0.0408 - val_accuracy: 0.9927\n",
      "Epoch 27/100\n",
      "1875/1875 [==============================] - 45s 24ms/step - loss: 0.0334 - accuracy: 0.9931 - val_loss: 0.0292 - val_accuracy: 0.9942\n",
      "Epoch 28/100\n",
      "1875/1875 [==============================] - 50s 27ms/step - loss: 0.0211 - accuracy: 0.9948 - val_loss: 0.0276 - val_accuracy: 0.9958\n",
      "Epoch 29/100\n",
      "1875/1875 [==============================] - 45s 24ms/step - loss: 0.0258 - accuracy: 0.9940 - val_loss: 0.0626 - val_accuracy: 0.9901\n",
      "Epoch 30/100\n",
      "1875/1875 [==============================] - 49s 26ms/step - loss: 0.0246 - accuracy: 0.9944 - val_loss: 0.0321 - val_accuracy: 0.9942\n",
      "Epoch 31/100\n",
      "1875/1875 [==============================] - 49s 26ms/step - loss: 0.0288 - accuracy: 0.9935 - val_loss: 0.0492 - val_accuracy: 0.9916\n",
      "Epoch 32/100\n",
      "1875/1875 [==============================] - 45s 24ms/step - loss: 0.0265 - accuracy: 0.9948 - val_loss: 0.0507 - val_accuracy: 0.9916\n",
      "Epoch 33/100\n",
      "1875/1875 [==============================] - 55s 29ms/step - loss: 0.0466 - accuracy: 0.9940 - val_loss: 0.0354 - val_accuracy: 0.9945\n",
      "Epoch 34/100\n",
      "1875/1875 [==============================] - 45s 24ms/step - loss: 0.0176 - accuracy: 0.9959 - val_loss: 0.0304 - val_accuracy: 0.9955\n",
      "Epoch 35/100\n",
      "1875/1875 [==============================] - 44s 24ms/step - loss: 0.0226 - accuracy: 0.9958 - val_loss: 0.0388 - val_accuracy: 0.9944\n",
      "Epoch 36/100\n",
      "1875/1875 [==============================] - 53s 29ms/step - loss: 0.0325 - accuracy: 0.9964 - val_loss: 0.0667 - val_accuracy: 0.9910\n",
      "Epoch 37/100\n",
      "1875/1875 [==============================] - 44s 24ms/step - loss: 0.0207 - accuracy: 0.9959 - val_loss: 0.0301 - val_accuracy: 0.9959\n",
      "Epoch 38/100\n",
      "1875/1875 [==============================] - 38s 20ms/step - loss: 0.0212 - accuracy: 0.9959 - val_loss: 0.0390 - val_accuracy: 0.9936\n",
      "Epoch 39/100\n",
      "1875/1875 [==============================] - 32s 17ms/step - loss: 0.0214 - accuracy: 0.9956 - val_loss: 0.0400 - val_accuracy: 0.9926\n",
      "Epoch 40/100\n",
      "1875/1875 [==============================] - 34s 18ms/step - loss: 0.0188 - accuracy: 0.9959 - val_loss: 0.0388 - val_accuracy: 0.9953\n",
      "Epoch 41/100\n",
      "1875/1875 [==============================] - 40s 22ms/step - loss: 0.0219 - accuracy: 0.9956 - val_loss: 0.0394 - val_accuracy: 0.9944\n",
      "Epoch 42/100\n",
      "1875/1875 [==============================] - 46s 24ms/step - loss: 0.0188 - accuracy: 0.9962 - val_loss: 0.0485 - val_accuracy: 0.9934\n",
      "Epoch 43/100\n",
      "1875/1875 [==============================] - 49s 26ms/step - loss: 0.0303 - accuracy: 0.9952 - val_loss: 0.0397 - val_accuracy: 0.9933\n",
      "Epoch 44/100\n",
      "1875/1875 [==============================] - 51s 27ms/step - loss: 0.0187 - accuracy: 0.9962 - val_loss: 0.0425 - val_accuracy: 0.9933\n",
      "Epoch 45/100\n",
      "1875/1875 [==============================] - 40s 21ms/step - loss: 0.0223 - accuracy: 0.9958 - val_loss: 0.0488 - val_accuracy: 0.9937\n",
      "Epoch 46/100\n",
      "1875/1875 [==============================] - 31s 17ms/step - loss: 0.0263 - accuracy: 0.9960 - val_loss: 0.0396 - val_accuracy: 0.9941\n",
      "Epoch 47/100\n",
      "1875/1875 [==============================] - 35s 19ms/step - loss: 0.0157 - accuracy: 0.9967 - val_loss: 0.0314 - val_accuracy: 0.9960\n",
      "Epoch 48/100\n",
      "1875/1875 [==============================] - 39s 21ms/step - loss: 0.0176 - accuracy: 0.9968 - val_loss: 0.0445 - val_accuracy: 0.9941\n",
      "Epoch 49/100\n",
      "1875/1875 [==============================] - 37s 20ms/step - loss: 0.0184 - accuracy: 0.9967 - val_loss: 0.0664 - val_accuracy: 0.9914\n",
      "Epoch 50/100\n",
      "1875/1875 [==============================] - 40s 21ms/step - loss: 0.0225 - accuracy: 0.9965 - val_loss: 0.0288 - val_accuracy: 0.9962\n",
      "Epoch 51/100\n",
      "1875/1875 [==============================] - 34s 18ms/step - loss: 0.0159 - accuracy: 0.9969 - val_loss: 0.0399 - val_accuracy: 0.9946\n",
      "Epoch 52/100\n",
      "1875/1875 [==============================] - 41s 22ms/step - loss: 0.0181 - accuracy: 0.9966 - val_loss: 0.0429 - val_accuracy: 0.9955\n",
      "Epoch 53/100\n",
      "1875/1875 [==============================] - 33s 18ms/step - loss: 0.0225 - accuracy: 0.9959 - val_loss: 0.0365 - val_accuracy: 0.9949\n",
      "Epoch 54/100\n",
      "1875/1875 [==============================] - 35s 19ms/step - loss: 0.0211 - accuracy: 0.9965 - val_loss: 0.0538 - val_accuracy: 0.9956\n",
      "Epoch 55/100\n",
      "1875/1875 [==============================] - 36s 19ms/step - loss: 0.0234 - accuracy: 0.9963 - val_loss: 0.0353 - val_accuracy: 0.9955\n",
      "Epoch 56/100\n"
     ]
    },
    {
     "name": "stdout",
     "output_type": "stream",
     "text": [
      "1875/1875 [==============================] - 33s 18ms/step - loss: 0.0187 - accuracy: 0.9969 - val_loss: 0.0468 - val_accuracy: 0.9932\n",
      "Epoch 57/100\n",
      "1875/1875 [==============================] - 34s 18ms/step - loss: 0.0161 - accuracy: 0.9971 - val_loss: 0.0381 - val_accuracy: 0.9952\n",
      "Epoch 58/100\n",
      "1875/1875 [==============================] - 38s 20ms/step - loss: 0.0192 - accuracy: 0.9968 - val_loss: 0.0578 - val_accuracy: 0.9965\n",
      "Epoch 59/100\n",
      "1875/1875 [==============================] - 32s 17ms/step - loss: 0.0932 - accuracy: 0.9966 - val_loss: 0.0436 - val_accuracy: 0.9935\n",
      "Epoch 60/100\n",
      "1875/1875 [==============================] - 28s 15ms/step - loss: 0.0094 - accuracy: 0.9979 - val_loss: 0.0561 - val_accuracy: 0.9953\n",
      "Epoch 61/100\n",
      "1875/1875 [==============================] - 37s 20ms/step - loss: 0.0171 - accuracy: 0.9975 - val_loss: 0.0434 - val_accuracy: 0.9966\n",
      "Epoch 62/100\n",
      "1875/1875 [==============================] - 38s 20ms/step - loss: 0.0148 - accuracy: 0.9974 - val_loss: 0.0461 - val_accuracy: 0.9946\n",
      "Epoch 63/100\n",
      "1875/1875 [==============================] - 50s 27ms/step - loss: 0.0384 - accuracy: 0.9972 - val_loss: 0.0349 - val_accuracy: 0.9955\n",
      "Epoch 64/100\n",
      "1875/1875 [==============================] - 40s 21ms/step - loss: 0.0134 - accuracy: 0.9980 - val_loss: 0.0414 - val_accuracy: 0.9954\n",
      "Epoch 65/100\n",
      "1875/1875 [==============================] - 48s 26ms/step - loss: 0.0122 - accuracy: 0.9982 - val_loss: 0.0640 - val_accuracy: 0.9949\n",
      "Epoch 66/100\n",
      "1875/1875 [==============================] - 48s 26ms/step - loss: 0.0203 - accuracy: 0.9972 - val_loss: 0.0497 - val_accuracy: 0.9954\n",
      "Epoch 67/100\n",
      "1875/1875 [==============================] - 32s 17ms/step - loss: 0.0116 - accuracy: 0.9978 - val_loss: 0.0440 - val_accuracy: 0.9966\n",
      "Epoch 68/100\n",
      "1875/1875 [==============================] - 42s 22ms/step - loss: 0.0177 - accuracy: 0.9972 - val_loss: 0.0475 - val_accuracy: 0.9954\n",
      "Epoch 69/100\n",
      "1875/1875 [==============================] - 36s 19ms/step - loss: 0.0213 - accuracy: 0.9966 - val_loss: 0.0415 - val_accuracy: 0.9954\n",
      "Epoch 70/100\n",
      "1875/1875 [==============================] - 42s 23ms/step - loss: 0.0141 - accuracy: 0.9976 - val_loss: 0.0470 - val_accuracy: 0.9962\n",
      "Epoch 71/100\n",
      "1875/1875 [==============================] - 29s 16ms/step - loss: 0.0125 - accuracy: 0.9977 - val_loss: 0.0446 - val_accuracy: 0.9948\n",
      "Epoch 72/100\n",
      "1875/1875 [==============================] - 39s 21ms/step - loss: 0.0195 - accuracy: 0.9968 - val_loss: 0.0409 - val_accuracy: 0.9953\n",
      "Epoch 73/100\n",
      "1875/1875 [==============================] - 44s 23ms/step - loss: 0.0123 - accuracy: 0.9981 - val_loss: 0.0576 - val_accuracy: 0.9945\n",
      "Epoch 74/100\n",
      "1875/1875 [==============================] - 45s 24ms/step - loss: 0.0192 - accuracy: 0.9966 - val_loss: 0.0725 - val_accuracy: 0.9932\n",
      "Epoch 75/100\n",
      "1875/1875 [==============================] - 46s 25ms/step - loss: 0.0458 - accuracy: 0.9973 - val_loss: 0.1369 - val_accuracy: 0.9913\n",
      "Epoch 76/100\n",
      "1875/1875 [==============================] - 33s 18ms/step - loss: 0.0120 - accuracy: 0.9978 - val_loss: 0.0394 - val_accuracy: 0.9965\n",
      "Epoch 77/100\n",
      "1875/1875 [==============================] - 45s 24ms/step - loss: 0.0134 - accuracy: 0.9977 - val_loss: 0.0484 - val_accuracy: 0.9966\n",
      "Epoch 78/100\n",
      "1875/1875 [==============================] - 47s 25ms/step - loss: 0.0126 - accuracy: 0.9980 - val_loss: 0.0448 - val_accuracy: 0.9963\n",
      "Epoch 79/100\n",
      "1875/1875 [==============================] - 52s 28ms/step - loss: 0.0164 - accuracy: 0.9974 - val_loss: 0.0396 - val_accuracy: 0.9968\n",
      "Epoch 80/100\n",
      "1875/1875 [==============================] - 32s 17ms/step - loss: 0.0213 - accuracy: 0.9972 - val_loss: 0.0685 - val_accuracy: 0.9935\n",
      "Epoch 81/100\n",
      "1875/1875 [==============================] - 43s 23ms/step - loss: 0.0196 - accuracy: 0.9978 - val_loss: 0.0546 - val_accuracy: 0.9965\n",
      "Epoch 82/100\n",
      "1875/1875 [==============================] - 38s 20ms/step - loss: 0.0149 - accuracy: 0.9979 - val_loss: 0.0670 - val_accuracy: 0.9960\n",
      "Epoch 83/100\n",
      "1875/1875 [==============================] - 35s 19ms/step - loss: 0.0127 - accuracy: 0.9980 - val_loss: 0.0687 - val_accuracy: 0.9960\n",
      "Epoch 84/100\n",
      "1875/1875 [==============================] - 43s 23ms/step - loss: 0.0136 - accuracy: 0.9980 - val_loss: 0.0565 - val_accuracy: 0.9962\n",
      "Epoch 85/100\n",
      "1875/1875 [==============================] - 29s 16ms/step - loss: 0.0154 - accuracy: 0.9979 - val_loss: 0.0723 - val_accuracy: 0.9959\n",
      "Epoch 86/100\n",
      "1875/1875 [==============================] - 46s 25ms/step - loss: 0.0169 - accuracy: 0.9975 - val_loss: 0.0445 - val_accuracy: 0.9965\n",
      "Epoch 87/100\n",
      "1875/1875 [==============================] - 49s 26ms/step - loss: 0.0160 - accuracy: 0.9979 - val_loss: 0.0570 - val_accuracy: 0.9960\n",
      "Epoch 88/100\n",
      "1875/1875 [==============================] - 41s 22ms/step - loss: 0.0157 - accuracy: 0.9975 - val_loss: 0.0391 - val_accuracy: 0.9965\n",
      "Epoch 89/100\n",
      "1875/1875 [==============================] - 37s 20ms/step - loss: 0.0162 - accuracy: 0.9974 - val_loss: 0.0482 - val_accuracy: 0.9965\n",
      "Epoch 90/100\n",
      "1875/1875 [==============================] - 39s 21ms/step - loss: 0.0159 - accuracy: 0.9976 - val_loss: 0.0834 - val_accuracy: 0.9951\n",
      "Epoch 91/100\n",
      "1875/1875 [==============================] - 30s 16ms/step - loss: 0.0234 - accuracy: 0.9975 - val_loss: 0.0420 - val_accuracy: 0.9959\n",
      "Epoch 92/100\n",
      "1875/1875 [==============================] - 33s 17ms/step - loss: 0.0063 - accuracy: 0.9987 - val_loss: 0.0550 - val_accuracy: 0.9914\n",
      "Epoch 93/100\n",
      "1875/1875 [==============================] - 33s 18ms/step - loss: 0.0107 - accuracy: 0.9987 - val_loss: 0.1319 - val_accuracy: 0.9939\n",
      "Epoch 94/100\n",
      "1875/1875 [==============================] - 35s 19ms/step - loss: 0.0308 - accuracy: 0.9971 - val_loss: 0.1098 - val_accuracy: 0.9957\n",
      "Epoch 95/100\n",
      "1875/1875 [==============================] - 35s 19ms/step - loss: 0.0092 - accuracy: 0.9986 - val_loss: 0.2110 - val_accuracy: 0.9964\n",
      "Epoch 96/100\n",
      "1875/1875 [==============================] - 39s 21ms/step - loss: 0.0309 - accuracy: 0.9975 - val_loss: 1.5419 - val_accuracy: 0.9943\n",
      "Epoch 97/100\n",
      "1875/1875 [==============================] - 29s 16ms/step - loss: 0.1308 - accuracy: 0.9979 - val_loss: 0.1049 - val_accuracy: 0.9964\n",
      "Epoch 98/100\n",
      "1875/1875 [==============================] - 36s 19ms/step - loss: 0.0070 - accuracy: 0.9989 - val_loss: 0.3948 - val_accuracy: 0.9965\n",
      "Epoch 99/100\n",
      "1875/1875 [==============================] - 44s 23ms/step - loss: 0.0372 - accuracy: 0.9985 - val_loss: 0.0497 - val_accuracy: 0.9968\n",
      "Epoch 100/100\n",
      "1875/1875 [==============================] - 51s 27ms/step - loss: 0.0120 - accuracy: 0.9984 - val_loss: 0.0819 - val_accuracy: 0.9973\n"
     ]
    }
   ],
   "source": [
    "#early_stopping_cb = keras.callbacks.EarlyStopping(patience=10, \n",
    "#                                                 restore_best_weights=True)\n",
    "\n",
    "checkpoint_cb = keras.callbacks.ModelCheckpoint(\"keras_mnist.h5\",\n",
    "save_best_only=True)\n",
    "\n",
    "history = model.fit(X_train, y_train, epochs=100,\n",
    "                    validation_data=(X_valid, y_valid),\n",
    "                    callbacks=[tensorboard_callback, checkpoint_cb])"
   ]
  },
  {
   "cell_type": "code",
   "execution_count": 12,
   "metadata": {},
   "outputs": [
    {
     "data": {
      "text/plain": [
       "Reusing TensorBoard on port 6006 (pid 81878), started 0:00:47 ago. (Use '!kill 81878' to kill it.)"
      ]
     },
     "metadata": {},
     "output_type": "display_data"
    },
    {
     "data": {
      "text/html": [
       "\n",
       "      <iframe id=\"tensorboard-frame-de72a52392fbf89e\" width=\"100%\" height=\"800\" frameborder=\"0\">\n",
       "      </iframe>\n",
       "      <script>\n",
       "        (function() {\n",
       "          const frame = document.getElementById(\"tensorboard-frame-de72a52392fbf89e\");\n",
       "          const url = new URL(\"/\", window.location);\n",
       "          url.port = 6006;\n",
       "          frame.src = url;\n",
       "        })();\n",
       "      </script>\n",
       "  "
      ],
      "text/plain": [
       "<IPython.core.display.HTML object>"
      ]
     },
     "metadata": {},
     "output_type": "display_data"
    }
   ],
   "source": [
    "%tensorboard --logdir logs/scalars"
   ]
  },
  {
   "cell_type": "code",
   "execution_count": 13,
   "metadata": {},
   "outputs": [],
   "source": [
    "model = keras.models.load_model(\"keras_mnist.h5\")\n",
    "\n",
    "model_new = keras.models.Sequential(model.layers[:-1])\n",
    "model_new.add(keras.layers.Dense(10, activation='softmax'))\n",
    "\n",
    "for layer in model_new.layers[:-1]:\n",
    "    layer.trainable = False\n",
    "    \n",
    "model_new.compile(loss='sparse_categorical_crossentropy',\n",
    "                 optimizer='Nadam',\n",
    "                 metrics=['accuracy'])\n",
    "\n",
    "X_Valid, X_Train = X_full[36000:]/255.0, X_full[:36000]/255.0\n",
    "y_Valid, y_Train = y_full[36000:], y_full[:36000]"
   ]
  },
  {
   "cell_type": "code",
   "execution_count": 14,
   "metadata": {},
   "outputs": [
    {
     "name": "stdout",
     "output_type": "stream",
     "text": [
      "Epoch 1/10\n",
      "1125/1125 [==============================] - 7s 6ms/step - loss: 0.3247 - accuracy: 0.9597 - val_loss: 0.0441 - val_accuracy: 0.9933\n",
      "Epoch 2/10\n",
      "1125/1125 [==============================] - 6s 5ms/step - loss: 0.0246 - accuracy: 0.9943 - val_loss: 0.0457 - val_accuracy: 0.9937\n",
      "Epoch 3/10\n",
      "1125/1125 [==============================] - 8s 7ms/step - loss: 0.0203 - accuracy: 0.9948 - val_loss: 0.0430 - val_accuracy: 0.9942\n",
      "Epoch 4/10\n",
      "1125/1125 [==============================] - 7s 6ms/step - loss: 0.0187 - accuracy: 0.9952 - val_loss: 0.0431 - val_accuracy: 0.9943\n",
      "Epoch 5/10\n",
      "1125/1125 [==============================] - 5s 4ms/step - loss: 0.0175 - accuracy: 0.9956 - val_loss: 0.0418 - val_accuracy: 0.9950\n",
      "Epoch 6/10\n",
      "1125/1125 [==============================] - 5s 4ms/step - loss: 0.0175 - accuracy: 0.9954 - val_loss: 0.0438 - val_accuracy: 0.9942\n",
      "Epoch 7/10\n",
      "1125/1125 [==============================] - 3s 3ms/step - loss: 0.0169 - accuracy: 0.9958 - val_loss: 0.0441 - val_accuracy: 0.9952\n",
      "Epoch 8/10\n",
      "1125/1125 [==============================] - 7s 6ms/step - loss: 0.0168 - accuracy: 0.9956 - val_loss: 0.0482 - val_accuracy: 0.9942\n",
      "Epoch 9/10\n",
      "1125/1125 [==============================] - 3s 3ms/step - loss: 0.0167 - accuracy: 0.9955 - val_loss: 0.0466 - val_accuracy: 0.9947\n",
      "Epoch 10/10\n",
      "1125/1125 [==============================] - 3s 3ms/step - loss: 0.0158 - accuracy: 0.9960 - val_loss: 0.0516 - val_accuracy: 0.9937\n"
     ]
    }
   ],
   "source": [
    "history = model_new.fit(X_Train, y_Train, epochs=10,\n",
    "                    validation_data=(X_Valid, y_Valid))"
   ]
  },
  {
   "cell_type": "code",
   "execution_count": 15,
   "metadata": {},
   "outputs": [],
   "source": [
    "test = pd.read_csv(\"test.csv\")"
   ]
  },
  {
   "cell_type": "code",
   "execution_count": 16,
   "metadata": {},
   "outputs": [
    {
     "name": "stdout",
     "output_type": "stream",
     "text": [
      "WARNING:tensorflow:From <ipython-input-16-cbf1f4d6c28c>:1: Sequential.predict_classes (from tensorflow.python.keras.engine.sequential) is deprecated and will be removed after 2021-01-01.\n",
      "Instructions for updating:\n",
      "Please use instead:* `np.argmax(model.predict(x), axis=-1)`,   if your model does multi-class classification   (e.g. if it uses a `softmax` last-layer activation).* `(model.predict(x) > 0.5).astype(\"int32\")`,   if your model does binary classification   (e.g. if it uses a `sigmoid` last-layer activation).\n",
      "1875/1875 [==============================] - 6s 3ms/step - loss: 0.0097 - accuracy: 0.9971\n",
      "[0.009663091972470284, 0.9971166849136353]\n",
      "1875/1875 [==============================] - 6s 3ms/step - loss: 0.0115 - accuracy: 0.9967\n",
      "[0.011515735648572445, 0.9967333078384399]\n",
      "1313/1313 [==============================] - 7s 5ms/step - loss: 0.0195 - accuracy: 0.9958\n",
      "[0.01945994608104229, 0.9958333373069763]\n",
      "1313/1313 [==============================] - 4s 3ms/step - loss: 0.0257 - accuracy: 0.9948\n",
      "[0.0256603192538023, 0.9948333501815796]\n"
     ]
    }
   ],
   "source": [
    "y_test = model_new.predict_classes(test/255)\n",
    "\n",
    "output = pd.DataFrame({\"ImageId\": test.index+1, 'Label':y_test})\n",
    "\n",
    "print(model_new.evaluate(X_train_full/255, y_train_full))\n",
    "print(model.evaluate(X_train_full/255, y_train_full))\n",
    "print(model_new.evaluate(X_full/255, y_full))\n",
    "print(model.evaluate(X_full/255, y_full))"
   ]
  },
  {
   "cell_type": "code",
   "execution_count": 17,
   "metadata": {},
   "outputs": [],
   "source": [
    "output.to_csv('sub.csv', index=False)"
   ]
  },
  {
   "cell_type": "code",
   "execution_count": null,
   "metadata": {},
   "outputs": [],
   "source": []
  }
 ],
 "metadata": {
  "kernelspec": {
   "display_name": "Python 3",
   "language": "python",
   "name": "python3"
  },
  "language_info": {
   "codemirror_mode": {
    "name": "ipython",
    "version": 3
   },
   "file_extension": ".py",
   "mimetype": "text/x-python",
   "name": "python",
   "nbconvert_exporter": "python",
   "pygments_lexer": "ipython3",
   "version": "3.8.3"
  }
 },
 "nbformat": 4,
 "nbformat_minor": 4
}
